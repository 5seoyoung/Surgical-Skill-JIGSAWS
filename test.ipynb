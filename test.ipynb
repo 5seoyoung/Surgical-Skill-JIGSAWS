{
 "cells": [
  {
   "cell_type": "code",
   "execution_count": 1,
   "id": "65cbc68d",
   "metadata": {},
   "outputs": [
    {
     "name": "stdout",
     "output_type": "stream",
     "text": [
      "Subj sample: ['002', '003', '001', '004', '005', '001', '003', '002', '005', '005']\n"
     ]
    }
   ],
   "source": [
    "import numpy as np\n",
    "arr = np.load(\"out/cache/arrays_skill_stride1_subjid.npz\", allow_pickle=True)\n",
    "meta = arr[\"meta\"]\n",
    "print(\"Subj sample:\", [m[1] for m in meta[:10]])\n"
   ]
  },
  {
   "cell_type": "code",
   "execution_count": null,
   "id": "01703f56",
   "metadata": {},
   "outputs": [],
   "source": []
  }
 ],
 "metadata": {
  "kernelspec": {
   "display_name": ".venv",
   "language": "python",
   "name": "python3"
  },
  "language_info": {
   "codemirror_mode": {
    "name": "ipython",
    "version": 3
   },
   "file_extension": ".py",
   "mimetype": "text/x-python",
   "name": "python",
   "nbconvert_exporter": "python",
   "pygments_lexer": "ipython3",
   "version": "3.13.5"
  }
 },
 "nbformat": 4,
 "nbformat_minor": 5
}
